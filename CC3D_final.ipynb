{
 "cells": [
  {
   "cell_type": "code",
   "execution_count": 1,
   "id": "ee4817c4",
   "metadata": {},
   "outputs": [],
   "source": [
    "import torch\n",
    "from torch import nn\n",
    "import pandas as pd\n",
    "import numpy as np\n",
    "import matplotlib.pyplot as plt"
   ]
  },
  {
   "cell_type": "code",
   "execution_count": 2,
   "id": "e1100873",
   "metadata": {},
   "outputs": [
    {
     "name": "stdout",
     "output_type": "stream",
     "text": [
      "\n",
      "Using device: cuda:0\n"
     ]
    }
   ],
   "source": [
    "device = torch.device(\"cuda:0\")  # Use first RTX 3090\n",
    "print(f\"\\nUsing device: {device}\")"
   ]
  },
  {
   "cell_type": "code",
   "execution_count": 3,
   "id": "52fa8578",
   "metadata": {},
   "outputs": [],
   "source": [
    "data = np.loadtxt(\"averages_output.dat\")\n",
    "torch_tensor = torch.from_numpy(data)\n",
    "\n",
    "X_data = torch_tensor[:, 1:6]\n",
    "y_data = torch_tensor[:, 6:]\n",
    "\n",
    "X_combined = X_data.reshape(-1, 5)\n",
    "y_combined = y_data.reshape(-1, 4)"
   ]
  },
  {
   "cell_type": "code",
   "execution_count": 4,
   "id": "78996ad6",
   "metadata": {},
   "outputs": [
    {
     "data": {
      "text/plain": [
       "(800000, 200000, 800000, 200000)"
      ]
     },
     "execution_count": 4,
     "metadata": {},
     "output_type": "execute_result"
    }
   ],
   "source": [
    "train_split = int(0.8 * len(X_combined))\n",
    "\n",
    "X_train, X_test = X_combined[:train_split], X_combined[train_split:]\n",
    "y_train, y_test = y_combined[:train_split], y_combined[train_split:]\n",
    "\n",
    "len(X_train), len(X_test), len(y_train), len(y_test)"
   ]
  },
  {
   "cell_type": "code",
   "execution_count": 5,
   "id": "540c369b",
   "metadata": {},
   "outputs": [],
   "source": [
    "X_train = X_train.to(device)\n",
    "X_test = X_test.to(device)  \n",
    "y_train = y_train.to(device)\n",
    "y_test = y_test.to(device)"
   ]
  },
  {
   "cell_type": "code",
   "execution_count": 6,
   "id": "4aa6055d",
   "metadata": {},
   "outputs": [
    {
     "data": {
      "text/html": [
       "<div>\n",
       "<style scoped>\n",
       "    .dataframe tbody tr th:only-of-type {\n",
       "        vertical-align: middle;\n",
       "    }\n",
       "\n",
       "    .dataframe tbody tr th {\n",
       "        vertical-align: top;\n",
       "    }\n",
       "\n",
       "    .dataframe thead th {\n",
       "        text-align: right;\n",
       "    }\n",
       "</style>\n",
       "<table border=\"1\" class=\"dataframe\">\n",
       "  <thead>\n",
       "    <tr style=\"text-align: right;\">\n",
       "      <th></th>\n",
       "      <th>T</th>\n",
       "      <th>TV</th>\n",
       "      <th>TS</th>\n",
       "      <th>LV</th>\n",
       "      <th>LS</th>\n",
       "      <th>CE</th>\n",
       "      <th>MV</th>\n",
       "      <th>STDV</th>\n",
       "      <th>MS</th>\n",
       "      <th>STDS</th>\n",
       "    </tr>\n",
       "  </thead>\n",
       "  <tbody>\n",
       "    <tr>\n",
       "      <th>count</th>\n",
       "      <td>1000000.0</td>\n",
       "      <td>1000000.000000</td>\n",
       "      <td>1000000.000000</td>\n",
       "      <td>1000000.000000</td>\n",
       "      <td>1000000.000000</td>\n",
       "      <td>1000000.000000</td>\n",
       "      <td>1000000.000000</td>\n",
       "      <td>1000000.000000</td>\n",
       "      <td>1000000.000000</td>\n",
       "      <td>1000000.000000</td>\n",
       "    </tr>\n",
       "    <tr>\n",
       "      <th>mean</th>\n",
       "      <td>10.0</td>\n",
       "      <td>87.449168</td>\n",
       "      <td>45.660113</td>\n",
       "      <td>10.000029</td>\n",
       "      <td>7.497525</td>\n",
       "      <td>7.504350</td>\n",
       "      <td>86.275413</td>\n",
       "      <td>0.726561</td>\n",
       "      <td>48.516134</td>\n",
       "      <td>0.750546</td>\n",
       "    </tr>\n",
       "    <tr>\n",
       "      <th>std</th>\n",
       "      <td>0.0</td>\n",
       "      <td>36.081976</td>\n",
       "      <td>19.135010</td>\n",
       "      <td>2.885135</td>\n",
       "      <td>4.329405</td>\n",
       "      <td>4.329673</td>\n",
       "      <td>36.405156</td>\n",
       "      <td>0.124169</td>\n",
       "      <td>15.774448</td>\n",
       "      <td>0.556963</td>\n",
       "    </tr>\n",
       "    <tr>\n",
       "      <th>min</th>\n",
       "      <td>10.0</td>\n",
       "      <td>25.000000</td>\n",
       "      <td>10.000000</td>\n",
       "      <td>5.000000</td>\n",
       "      <td>0.000015</td>\n",
       "      <td>0.000001</td>\n",
       "      <td>12.583339</td>\n",
       "      <td>0.000000</td>\n",
       "      <td>14.344205</td>\n",
       "      <td>0.000000</td>\n",
       "    </tr>\n",
       "    <tr>\n",
       "      <th>25%</th>\n",
       "      <td>10.0</td>\n",
       "      <td>56.000000</td>\n",
       "      <td>30.140000</td>\n",
       "      <td>7.498000</td>\n",
       "      <td>3.755000</td>\n",
       "      <td>3.758000</td>\n",
       "      <td>54.832009</td>\n",
       "      <td>0.627110</td>\n",
       "      <td>37.103515</td>\n",
       "      <td>0.369156</td>\n",
       "    </tr>\n",
       "    <tr>\n",
       "      <th>50%</th>\n",
       "      <td>10.0</td>\n",
       "      <td>87.000000</td>\n",
       "      <td>43.200000</td>\n",
       "      <td>10.000000</td>\n",
       "      <td>7.491000</td>\n",
       "      <td>7.504000</td>\n",
       "      <td>86.396589</td>\n",
       "      <td>0.701134</td>\n",
       "      <td>46.351828</td>\n",
       "      <td>0.723496</td>\n",
       "    </tr>\n",
       "    <tr>\n",
       "      <th>75%</th>\n",
       "      <td>10.0</td>\n",
       "      <td>119.000000</td>\n",
       "      <td>59.310000</td>\n",
       "      <td>12.500000</td>\n",
       "      <td>11.250000</td>\n",
       "      <td>11.260000</td>\n",
       "      <td>117.751248</td>\n",
       "      <td>0.810920</td>\n",
       "      <td>57.943594</td>\n",
       "      <td>0.993352</td>\n",
       "    </tr>\n",
       "    <tr>\n",
       "      <th>max</th>\n",
       "      <td>10.0</td>\n",
       "      <td>150.000000</td>\n",
       "      <td>97.950000</td>\n",
       "      <td>15.000000</td>\n",
       "      <td>15.000000</td>\n",
       "      <td>15.000000</td>\n",
       "      <td>149.972455</td>\n",
       "      <td>1.853903</td>\n",
       "      <td>164.946646</td>\n",
       "      <td>28.567272</td>\n",
       "    </tr>\n",
       "  </tbody>\n",
       "</table>\n",
       "</div>"
      ],
      "text/plain": [
       "               T              TV              TS              LV  \\\n",
       "count  1000000.0  1000000.000000  1000000.000000  1000000.000000   \n",
       "mean        10.0       87.449168       45.660113       10.000029   \n",
       "std          0.0       36.081976       19.135010        2.885135   \n",
       "min         10.0       25.000000       10.000000        5.000000   \n",
       "25%         10.0       56.000000       30.140000        7.498000   \n",
       "50%         10.0       87.000000       43.200000       10.000000   \n",
       "75%         10.0      119.000000       59.310000       12.500000   \n",
       "max         10.0      150.000000       97.950000       15.000000   \n",
       "\n",
       "                   LS              CE              MV            STDV  \\\n",
       "count  1000000.000000  1000000.000000  1000000.000000  1000000.000000   \n",
       "mean         7.497525        7.504350       86.275413        0.726561   \n",
       "std          4.329405        4.329673       36.405156        0.124169   \n",
       "min          0.000015        0.000001       12.583339        0.000000   \n",
       "25%          3.755000        3.758000       54.832009        0.627110   \n",
       "50%          7.491000        7.504000       86.396589        0.701134   \n",
       "75%         11.250000       11.260000      117.751248        0.810920   \n",
       "max         15.000000       15.000000      149.972455        1.853903   \n",
       "\n",
       "                   MS            STDS  \n",
       "count  1000000.000000  1000000.000000  \n",
       "mean        48.516134        0.750546  \n",
       "std         15.774448        0.556963  \n",
       "min         14.344205        0.000000  \n",
       "25%         37.103515        0.369156  \n",
       "50%         46.351828        0.723496  \n",
       "75%         57.943594        0.993352  \n",
       "max        164.946646       28.567272  "
      ]
     },
     "execution_count": 6,
     "metadata": {},
     "output_type": "execute_result"
    },
    {
     "data": {
      "image/png": "[encoded data removed]",
      "text/plain": [
       "<Figure size 640x480 with 1 Axes>"
      ]
     },
     "metadata": {},
     "output_type": "display_data"
    }
   ],
   "source": [
    "headers = [\"T\", \"TV\", \"TS\", \"LV\", \"LS\", \"CE\", \"MV\", \"STDV\", \"MS\", \"STDS\"]\n",
    "\n",
    "df = pd.read_csv('averages_output.dat', delimiter='\\t', header=None, names=headers)\n",
    "\n",
    "def plot(dataset, x='', y=''):\n",
    "    dataset.plot(x=x, y=y, kind='scatter', s=1)\n",
    "    return()\n",
    "plot(df, x='LV', y='MV')\n",
    "\n",
    "df.describe()"
   ]
  },
  {
   "cell_type": "code",
   "execution_count": 7,
   "id": "1f7f3d69",
   "metadata": {},
   "outputs": [],
   "source": [
    "from torch import nn\n",
    "class NonLinearModule(nn.Module): # explain\n",
    "    def __init__(self):\n",
    "        super().__init__()\n",
    "\n",
    "        self.layer_1 = nn.Linear(5, 128)\n",
    "        self.layer_2 = nn.Linear(128, 256)\n",
    "        self.layer_3 = nn.Linear(256, 128)\n",
    "        self.layer_4 = nn.Linear(128, 4)\n",
    "        \n",
    "        # use exact same structure as previous; dont add features + layers\n",
    "        # if not enough, add a layer with 256 features\n",
    "\n",
    "        # save model, then start over from previously trained model\n",
    "\n",
    "        # next steps\n",
    "            # get loss low\n",
    "            # publish on website\n",
    "            # documentation -> claude\n",
    "\n",
    "        self.relu = nn.ReLU()\n",
    "\n",
    "    def forward(self, x):\n",
    "        return (self.layer_4(self.relu(self.layer_3(self.relu(self.layer_2(self.relu(self.layer_1(x))))))))"
   ]
  },
  {
   "cell_type": "code",
   "execution_count": 8,
   "id": "954ff27b",
   "metadata": {},
   "outputs": [],
   "source": [
    "torch.manual_seed(42)\n",
    "\n",
    "model_3 = NonLinearModule().to(device)"
   ]
  },
  {
   "cell_type": "code",
   "execution_count": 9,
   "id": "0a3cbb47",
   "metadata": {},
   "outputs": [
    {
     "data": {
      "text/plain": [
       "tensor([[ 0.9103,  0.0242, -1.8993,  2.0304],\n",
       "        [ 0.9592, -0.1397, -4.2614,  4.2953],\n",
       "        [ 1.3679, -0.7030, -4.8536,  4.7644],\n",
       "        ...,\n",
       "        [ 0.0857,  0.1251, -2.9581,  3.0959],\n",
       "        [ 0.2481, -0.2300, -4.1387,  4.1909],\n",
       "        [ 0.7962, -0.4421, -4.7189,  4.6223]], device='cuda:0')"
      ]
     },
     "execution_count": 9,
     "metadata": {},
     "output_type": "execute_result"
    }
   ],
   "source": [
    "with torch.inference_mode():\n",
    "    untrained_preds = model_3(X_test.float())\n",
    "\n",
    "untrained_preds"
   ]
  },
  {
   "cell_type": "code",
   "execution_count": 51,
   "id": "31973a7b",
   "metadata": {},
   "outputs": [],
   "source": [
    "loss = nn.L1Loss()\n",
    "optimizer = torch.optim.Adam(params=model_3.parameters(), lr=0.1)"
   ]
  },
  {
   "cell_type": "code",
   "execution_count": 22,
   "id": "25e85eac",
   "metadata": {},
   "outputs": [
    {
     "data": {
      "text/plain": [
       "(<torch.utils.data.dataloader.DataLoader at 0x1427ac4c550>,\n",
       " <torch.utils.data.dataloader.DataLoader at 0x1427ac4fcd0>)"
      ]
     },
     "execution_count": 22,
     "metadata": {},
     "output_type": "execute_result"
    }
   ],
   "source": [
    "from torch.utils.data import DataLoader, TensorDataset\n",
    "\n",
    "batch_size = 8192\n",
    "\n",
    "train_dataloader = DataLoader(dataset=TensorDataset(X_train, y_train), \n",
    "                              batch_size=batch_size,\n",
    "                              shuffle=True)\n",
    "\n",
    "test_dataloader = DataLoader(dataset=TensorDataset(X_test, y_test), \n",
    "                              batch_size=batch_size,\n",
    "                              shuffle=False)\n",
    "\n",
    "train_dataloader, test_dataloader"
   ]
  },
  {
   "cell_type": "code",
   "execution_count": 23,
   "id": "a1f57e3c",
   "metadata": {},
   "outputs": [
    {
     "name": "stdout",
     "output_type": "stream",
     "text": [
      "DataLoaders: (<torch.utils.data.dataloader.DataLoader object at 0x000001427AC4C550>, <torch.utils.data.dataloader.DataLoader object at 0x000001427AC4FCD0>)\n",
      "Length of train_dataloader: 98 batches of 8192...\n",
      "Length of test_dataloader: 25 batches of 8192...\n"
     ]
    }
   ],
   "source": [
    "print(f\"DataLoaders: {train_dataloader, test_dataloader}\")\n",
    "print(f\"Length of train_dataloader: {len(train_dataloader)} batches of {batch_size}...\")\n",
    "print(f\"Length of test_dataloader: {len(test_dataloader)} batches of {batch_size}...\")"
   ]
  },
  {
   "cell_type": "code",
   "execution_count": 54,
   "id": "a85bbff0",
   "metadata": {},
   "outputs": [
    {
     "name": "stdout",
     "output_type": "stream",
     "text": [
      "Epoch: 0 | Train Loss: 0.132420 | Test Loss: 0.132326\n",
      "Epoch: 1 | Train Loss: 0.132418 | Test Loss: 0.132326\n",
      "Epoch: 2 | Train Loss: 0.132420 | Test Loss: 0.132326\n",
      "Epoch: 3 | Train Loss: 0.132428 | Test Loss: 0.132326\n",
      "Epoch: 4 | Train Loss: 0.132426 | Test Loss: 0.132326\n"
     ]
    }
   ],
   "source": [
    "epochs = 5\n",
    "\n",
    "# track different values\n",
    "epoch_count = []\n",
    "loss_values = []\n",
    "test_loss_values = []\n",
    "\n",
    "for epoch in range(epochs):\n",
    "    model_3.train()\n",
    "    \n",
    "    train_loss = 0\n",
    "    train_batches = 0\n",
    "    \n",
    "    for batch_X, batch_y in train_dataloader:\n",
    "        # 1 - forward pass\n",
    "        y_pred = model_3(batch_X.float())\n",
    "        \n",
    "        # 2 - loss calculation\n",
    "        loss_val = loss(y_pred, batch_y)\n",
    "        \n",
    "        # 3 - optimizer zero grad\n",
    "        optimizer.zero_grad()\n",
    "        \n",
    "        # 4 - loss backpropagation\n",
    "        loss_val.backward()\n",
    "        \n",
    "        # 5 - optimizer step\n",
    "        optimizer.step()\n",
    "        \n",
    "        train_loss += loss_val.item()\n",
    "        train_batches += 1\n",
    "    \n",
    "    # Calculate average training loss\n",
    "    avg_train_loss = train_loss / train_batches\n",
    "    \n",
    "    model_3.eval()\n",
    "    \n",
    "    test_loss = 0\n",
    "    test_batches = 0\n",
    "    \n",
    "    with torch.inference_mode():\n",
    "        for batch_X_test, batch_y_test in test_dataloader:\n",
    "            # Forward pass on test batch\n",
    "            test_pred = model_3(batch_X_test.float())\n",
    "            batch_test_loss = loss(test_pred, batch_y_test)\n",
    "            \n",
    "            test_loss += batch_test_loss.item()\n",
    "            test_batches += 1\n",
    "    \n",
    "    # Calculate average test loss\n",
    "    avg_test_loss = test_loss / test_batches\n",
    "    \n",
    "    if epoch % 1 == 0:\n",
    "        epoch_count.append(epoch)\n",
    "        loss_values.append(avg_train_loss)\n",
    "        test_loss_values.append(avg_test_loss)\n",
    "        print(f\"Epoch: {epoch} | Train Loss: {avg_train_loss:.6f} | Test Loss: {avg_test_loss:.6f}\")"
   ]
  },
  {
   "cell_type": "code",
   "execution_count": 55,
   "id": "260e4b0b",
   "metadata": {},
   "outputs": [
    {
     "data": {
      "text/plain": [
       "<matplotlib.legend.Legend at 0x1427dfb83d0>"
      ]
     },
     "execution_count": 55,
     "metadata": {},
     "output_type": "execute_result"
    },
    {
     "data": {
      "image/png": "[encoded data removed]",
      "text/plain": [
       "<Figure size 640x480 with 1 Axes>"
      ]
     },
     "metadata": {},
     "output_type": "display_data"
    }
   ],
   "source": [
    "plt.plot(epoch_count, np.array(torch.tensor(loss_values).numpy()), label=\"Train Loss\")\n",
    "plt.plot(epoch_count, np.array(torch.tensor(test_loss_values).numpy()), label=\"Test Loss\")\n",
    "plt.title(\"Training and Testing Loss\")\n",
    "plt.yscale('log')\n",
    "plt.ylabel(\"Loss\")\n",
    "plt.xlabel(\"Epochs\")\n",
    "plt.legend()"
   ]
  },
  {
   "cell_type": "code",
   "execution_count": 73,
   "id": "735a759c",
   "metadata": {},
   "outputs": [
    {
     "data": {
      "text/html": [
       "<div>\n",
       "<style scoped>\n",
       "    .dataframe tbody tr th:only-of-type {\n",
       "        vertical-align: middle;\n",
       "    }\n",
       "\n",
       "    .dataframe tbody tr th {\n",
       "        vertical-align: top;\n",
       "    }\n",
       "\n",
       "    .dataframe thead th {\n",
       "        text-align: right;\n",
       "    }\n",
       "</style>\n",
       "<table border=\"1\" class=\"dataframe\">\n",
       "  <thead>\n",
       "    <tr style=\"text-align: right;\">\n",
       "      <th></th>\n",
       "      <th>T</th>\n",
       "      <th>TV</th>\n",
       "      <th>TS</th>\n",
       "      <th>LV</th>\n",
       "      <th>LS</th>\n",
       "      <th>CE</th>\n",
       "      <th>MV</th>\n",
       "      <th>STDV</th>\n",
       "      <th>MS</th>\n",
       "      <th>STDS</th>\n",
       "    </tr>\n",
       "  </thead>\n",
       "  <tbody>\n",
       "    <tr>\n",
       "      <th>0</th>\n",
       "      <td>10.0</td>\n",
       "      <td>77.0</td>\n",
       "      <td>65.76</td>\n",
       "      <td>12.200</td>\n",
       "      <td>12.480</td>\n",
       "      <td>3.303</td>\n",
       "      <td>76.738254</td>\n",
       "      <td>0.639004</td>\n",
       "      <td>65.871955</td>\n",
       "      <td>0.493426</td>\n",
       "    </tr>\n",
       "    <tr>\n",
       "      <th>1</th>\n",
       "      <td>10.0</td>\n",
       "      <td>67.0</td>\n",
       "      <td>19.58</td>\n",
       "      <td>7.440</td>\n",
       "      <td>13.980</td>\n",
       "      <td>2.322</td>\n",
       "      <td>63.976220</td>\n",
       "      <td>0.566984</td>\n",
       "      <td>32.104376</td>\n",
       "      <td>0.408397</td>\n",
       "    </tr>\n",
       "    <tr>\n",
       "      <th>2</th>\n",
       "      <td>10.0</td>\n",
       "      <td>137.0</td>\n",
       "      <td>84.77</td>\n",
       "      <td>9.701</td>\n",
       "      <td>11.360</td>\n",
       "      <td>10.740</td>\n",
       "      <td>136.263318</td>\n",
       "      <td>0.710100</td>\n",
       "      <td>83.980018</td>\n",
       "      <td>0.290642</td>\n",
       "    </tr>\n",
       "    <tr>\n",
       "      <th>3</th>\n",
       "      <td>10.0</td>\n",
       "      <td>78.0</td>\n",
       "      <td>40.18</td>\n",
       "      <td>11.860</td>\n",
       "      <td>13.040</td>\n",
       "      <td>8.696</td>\n",
       "      <td>77.119078</td>\n",
       "      <td>0.645937</td>\n",
       "      <td>40.013839</td>\n",
       "      <td>0.167992</td>\n",
       "    </tr>\n",
       "    <tr>\n",
       "      <th>4</th>\n",
       "      <td>10.0</td>\n",
       "      <td>97.0</td>\n",
       "      <td>44.97</td>\n",
       "      <td>6.869</td>\n",
       "      <td>9.583</td>\n",
       "      <td>11.250</td>\n",
       "      <td>95.289424</td>\n",
       "      <td>0.858749</td>\n",
       "      <td>44.426733</td>\n",
       "      <td>0.819800</td>\n",
       "    </tr>\n",
       "  </tbody>\n",
       "</table>\n",
       "</div>"
      ],
      "text/plain": [
       "      T     TV     TS      LV      LS      CE          MV      STDV  \\\n",
       "0  10.0   77.0  65.76  12.200  12.480   3.303   76.738254  0.639004   \n",
       "1  10.0   67.0  19.58   7.440  13.980   2.322   63.976220  0.566984   \n",
       "2  10.0  137.0  84.77   9.701  11.360  10.740  136.263318  0.710100   \n",
       "3  10.0   78.0  40.18  11.860  13.040   8.696   77.119078  0.645937   \n",
       "4  10.0   97.0  44.97   6.869   9.583  11.250   95.289424  0.858749   \n",
       "\n",
       "          MS      STDS  \n",
       "0  65.871955  0.493426  \n",
       "1  32.104376  0.408397  \n",
       "2  83.980018  0.290642  \n",
       "3  40.013839  0.167992  \n",
       "4  44.426733  0.819800  "
      ]
     },
     "execution_count": 73,
     "metadata": {},
     "output_type": "execute_result"
    }
   ],
   "source": [
    "headers = [\"T\", \"TV\", \"TS\", \"LV\", \"LS\", \"CE\", \"MV\", \"STDV\", \"MS\", \"STDS\"]\n",
    "df = pd.read_csv('averages_output.dat', delimiter='\\t', header=None, names=headers)\n",
    "\n",
    "df.head()"
   ]
  },
  {
   "cell_type": "code",
   "execution_count": 61,
   "id": "fde89428",
   "metadata": {},
   "outputs": [
    {
     "data": {
      "text/html": [
       "<div>\n",
       "<style scoped>\n",
       "    .dataframe tbody tr th:only-of-type {\n",
       "        vertical-align: middle;\n",
       "    }\n",
       "\n",
       "    .dataframe tbody tr th {\n",
       "        vertical-align: top;\n",
       "    }\n",
       "\n",
       "    .dataframe thead th {\n",
       "        text-align: right;\n",
       "    }\n",
       "</style>\n",
       "<table border=\"1\" class=\"dataframe\">\n",
       "  <thead>\n",
       "    <tr style=\"text-align: right;\">\n",
       "      <th></th>\n",
       "      <th>T</th>\n",
       "      <th>TV</th>\n",
       "      <th>TS</th>\n",
       "      <th>LV</th>\n",
       "      <th>LS</th>\n",
       "      <th>CE</th>\n",
       "      <th>MV</th>\n",
       "      <th>STDV</th>\n",
       "      <th>MS</th>\n",
       "      <th>STDS</th>\n",
       "    </tr>\n",
       "  </thead>\n",
       "  <tbody>\n",
       "    <tr>\n",
       "      <th>184</th>\n",
       "      <td>10.0</td>\n",
       "      <td>137.0</td>\n",
       "      <td>23.89</td>\n",
       "      <td>12.01</td>\n",
       "      <td>7.765</td>\n",
       "      <td>7.601</td>\n",
       "      <td>136.130668</td>\n",
       "      <td>0.636719</td>\n",
       "      <td>49.834597</td>\n",
       "      <td>0.303244</td>\n",
       "    </tr>\n",
       "    <tr>\n",
       "      <th>939</th>\n",
       "      <td>10.0</td>\n",
       "      <td>138.0</td>\n",
       "      <td>26.12</td>\n",
       "      <td>12.43</td>\n",
       "      <td>11.760</td>\n",
       "      <td>4.377</td>\n",
       "      <td>137.185930</td>\n",
       "      <td>0.624997</td>\n",
       "      <td>48.182364</td>\n",
       "      <td>0.523559</td>\n",
       "    </tr>\n",
       "    <tr>\n",
       "      <th>1295</th>\n",
       "      <td>10.0</td>\n",
       "      <td>134.0</td>\n",
       "      <td>25.67</td>\n",
       "      <td>13.87</td>\n",
       "      <td>14.880</td>\n",
       "      <td>0.115</td>\n",
       "      <td>133.710901</td>\n",
       "      <td>0.589008</td>\n",
       "      <td>48.015832</td>\n",
       "      <td>0.164199</td>\n",
       "    </tr>\n",
       "    <tr>\n",
       "      <th>1334</th>\n",
       "      <td>10.0</td>\n",
       "      <td>129.0</td>\n",
       "      <td>25.41</td>\n",
       "      <td>14.87</td>\n",
       "      <td>14.470</td>\n",
       "      <td>2.690</td>\n",
       "      <td>128.513566</td>\n",
       "      <td>0.586792</td>\n",
       "      <td>47.276025</td>\n",
       "      <td>0.665133</td>\n",
       "    </tr>\n",
       "    <tr>\n",
       "      <th>1394</th>\n",
       "      <td>10.0</td>\n",
       "      <td>142.0</td>\n",
       "      <td>24.54</td>\n",
       "      <td>13.35</td>\n",
       "      <td>8.023</td>\n",
       "      <td>5.666</td>\n",
       "      <td>141.164940</td>\n",
       "      <td>0.603251</td>\n",
       "      <td>50.000000</td>\n",
       "      <td>0.000000</td>\n",
       "    </tr>\n",
       "  </tbody>\n",
       "</table>\n",
       "</div>"
      ],
      "text/plain": [
       "         T     TV     TS     LV      LS     CE          MV      STDV  \\\n",
       "184   10.0  137.0  23.89  12.01   7.765  7.601  136.130668  0.636719   \n",
       "939   10.0  138.0  26.12  12.43  11.760  4.377  137.185930  0.624997   \n",
       "1295  10.0  134.0  25.67  13.87  14.880  0.115  133.710901  0.589008   \n",
       "1334  10.0  129.0  25.41  14.87  14.470  2.690  128.513566  0.586792   \n",
       "1394  10.0  142.0  24.54  13.35   8.023  5.666  141.164940  0.603251   \n",
       "\n",
       "             MS      STDS  \n",
       "184   49.834597  0.303244  \n",
       "939   48.182364  0.523559  \n",
       "1295  48.015832  0.164199  \n",
       "1334  47.276025  0.665133  \n",
       "1394  50.000000  0.000000  "
      ]
     },
     "execution_count": 61,
     "metadata": {},
     "output_type": "execute_result"
    }
   ],
   "source": [
    "TV_threshold = df['TV'].quantile(0.8)\n",
    "TS_threshold = df['TS'].quantile(0.2)\n",
    "\n",
    "LV_threshold = df['LV'].quantile(0.5)\n",
    "LS_threshold = df['LS'].quantile(0.5)\n",
    "\n",
    "filtered = df[(df['TS'] <= TS_threshold) & (df['TV'] >= TV_threshold) & (df['LV'] >= LV_threshold) & (df['LS'] >= LS_threshold)]\n",
    "filtered.head()"
   ]
  },
  {
   "cell_type": "code",
   "execution_count": null,
   "id": "49f8485a",
   "metadata": {},
   "outputs": [
    {
     "name": "stdout",
     "output_type": "stream",
     "text": [
      "tensor([133.6739,   0.5857,  47.5508,   0.6042], device='cuda:0')\n"
     ]
    }
   ],
   "source": [
    "output = []\n",
    "'''\n",
    "TV = 77\n",
    "TS = 65.76\n",
    "LV = 12.2\n",
    "LS = 12.48\n",
    "CE = 3.303\n",
    "'''\n",
    "\n",
    "TV = 134\n",
    "TS = 25.67\n",
    "LV = 13.87\n",
    "LS = 14.88\n",
    "CE = 0.115\n",
    "\n",
    "input_data = torch.tensor([TV, TS, LV, LS, CE], dtype=torch.float32).to(device)\n",
    "model = model_3\n",
    "with torch.no_grad():\n",
    "    outputm = model(input_data)\n",
    "print(outputm)"
   ]
  },
  {
   "cell_type": "code",
   "execution_count": 34,
   "id": "01574108",
   "metadata": {},
   "outputs": [
    {
     "name": "stdout",
     "output_type": "stream",
     "text": [
      "Output ranges:\n",
      "MV: 12.583 to 149.972 (range: 137.389)\n",
      "STDV: 0.000 to 1.854 (range: 1.854)\n",
      "MS: 14.344 to 135.260 (range: 120.916)\n",
      "STDS: 0.000 to 19.633 (range: 19.633)\n",
      "Loss is 0.7% of output range\n"
     ]
    }
   ],
   "source": [
    "print(\"Output ranges:\")\n",
    "for i, name in enumerate(['MV', 'STDV', 'MS', 'STDS']):\n",
    "    output_range = y_train[:, i].max() - y_train[:, i].min()\n",
    "    print(f\"{name}: {y_train[:, i].min():.3f} to {y_train[:, i].max():.3f} (range: {output_range:.3f})\")\n",
    "\n",
    "loss_percentage = loss_val / output_range * 100\n",
    "print(f\"Loss is {loss_percentage:.1f}% of output range\")"
   ]
  },
  {
   "cell_type": "code",
   "execution_count": 69,
   "id": "87e42e75",
   "metadata": {},
   "outputs": [
    {
     "data": {
      "image/png": "[encoded data removed]",
      "text/plain": [
       "<Figure size 800x500 with 1 Axes>"
      ]
     },
     "metadata": {},
     "output_type": "display_data"
    }
   ],
   "source": [
    "model_3.eval()\n",
    "\n",
    "# Store individual losses\n",
    "\n",
    "individual_losses = []\n",
    "\n",
    "# Disable gradient computation for evaluation\n",
    "\n",
    "with torch.no_grad():\n",
    "\n",
    "    for batch_X_test, batch_y_test in test_dataloader:\n",
    "        # Forward pass on test batch\n",
    "        test_pred = model_3(batch_X_test.float())\n",
    "        batch_test_loss = loss(test_pred, batch_y_test)\n",
    "            \n",
    "        test_loss = batch_test_loss.item()\n",
    "\n",
    "        individual_losses.append(test_loss)\n",
    "\n",
    "plt.figure(figsize=(8, 5))\n",
    "\n",
    "plt.hist(individual_losses, bins=30, color='skyblue', edgecolor='black')\n",
    "\n",
    "plt.title('Histogram of Individual Losses')\n",
    "\n",
    "plt.xlabel('Loss')\n",
    "\n",
    "plt.ylabel('Frequency')\n",
    "\n",
    "plt.grid(True)\n",
    "\n",
    "plt.show()"
   ]
  },
  {
   "cell_type": "code",
   "execution_count": 70,
   "id": "28aaced2",
   "metadata": {},
   "outputs": [
    {
     "data": {
      "image/png": "[encoded data removed]",
      "text/plain": [
       "<Figure size 800x500 with 1 Axes>"
      ]
     },
     "metadata": {},
     "output_type": "display_data"
    }
   ],
   "source": [
    "model_3.eval()\n",
    "\n",
    "# Store individual losses\n",
    "\n",
    "individual_losses = []\n",
    "\n",
    "# Disable gradient computation for evaluation\n",
    "\n",
    "with torch.no_grad():\n",
    "\n",
    "    for batch_X_test, batch_y_test in train_dataloader:\n",
    "        # Forward pass on test batch\n",
    "        test_pred = model_3(batch_X_test.float())\n",
    "        batch_test_loss = loss(test_pred, batch_y_test)\n",
    "            \n",
    "        test_loss = batch_test_loss.item()\n",
    "\n",
    "        individual_losses.append(test_loss)\n",
    "\n",
    "plt.figure(figsize=(8, 5))\n",
    "\n",
    "plt.hist(individual_losses, bins=30, color='skyblue', edgecolor='black')\n",
    "\n",
    "plt.title('Histogram of Individual Losses')\n",
    "\n",
    "plt.xlabel('Loss')\n",
    "\n",
    "plt.ylabel('Frequency')\n",
    "\n",
    "plt.grid(True)\n",
    "\n",
    "plt.show()"
   ]
  },
  {
   "cell_type": "code",
   "execution_count": 71,
   "id": "bdb72a9a",
   "metadata": {},
   "outputs": [],
   "source": [
    "from pathlib import Path\n",
    "\n",
    "MODEL_PATH = Path(\"models\")\n",
    "MODEL_PATH.mkdir(parents=True, exist_ok=True)\n",
    "\n",
    "MODEL_NAME = \"CC3D_final.pth\"\n",
    "MODEL_SAVE_PATH = MODEL_PATH / MODEL_NAME\n",
    "\n",
    "torch.save(model_3.state_dict(), f=MODEL_SAVE_PATH)\n",
    "\n",
    "# torch.save(obj=model_3.state_dict(), f=MODEL_SAVE_PATH)"
   ]
  },
  {
   "cell_type": "code",
   "execution_count": 72,
   "id": "4300d3d7",
   "metadata": {},
   "outputs": [
    {
     "data": {
      "text/plain": [
       "NonLinearModule(\n",
       "  (layer_1): Linear(in_features=5, out_features=128, bias=True)\n",
       "  (layer_2): Linear(in_features=128, out_features=256, bias=True)\n",
       "  (layer_3): Linear(in_features=256, out_features=128, bias=True)\n",
       "  (layer_4): Linear(in_features=128, out_features=4, bias=True)\n",
       "  (relu): ReLU()\n",
       ")"
      ]
     },
     "execution_count": 72,
     "metadata": {},
     "output_type": "execute_result"
    }
   ],
   "source": [
    "#model.load_state_dict(torch.load(\"models/CC3D.pth\", weights_only=False))\n",
    "model_3 = NonLinearModule()\n",
    "model_3.load_state_dict(torch.load('models/CC3D_final.pth'))\n",
    "model_3.eval()\n",
    "model_3.to(device)"
   ]
  }
 ],
 "metadata": {
  "kernelspec": {
   "display_name": ".venv",
   "language": "python",
   "name": "python3"
  },
  "language_info": {
   "codemirror_mode": {
    "name": "ipython",
    "version": 3
   },
   "file_extension": ".py",
   "mimetype": "text/x-python",
   "name": "python",
   "nbconvert_exporter": "python",
   "pygments_lexer": "ipython3",
   "version": "3.11.9"
  }
 },
 "nbformat": 4,
 "nbformat_minor": 5
}
